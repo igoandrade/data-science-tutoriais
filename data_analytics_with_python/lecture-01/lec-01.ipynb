{
 "cells": [
  {
   "cell_type": "markdown",
   "metadata": {},
   "source": [
    "# Aula 01: Introdução à Análise de Dados"
   ]
  },
  {
   "cell_type": "markdown",
   "metadata": {},
   "source": [
    "## Variáveis, medição e dados"
   ]
  },
  {
   "cell_type": "markdown",
   "metadata": {},
   "source": [
    "- **Variável**: é uma característica de uma entidade que está sendo estudada e que é capaz de tomar diferentes valores.\n",
    "- **Medição**: é um processo padronizado usado para assinalar números a atributos ou características particulares de uma variável.\n",
    "- **Dados**: são medições registradas."
   ]
  },
  {
   "cell_type": "markdown",
   "metadata": {},
   "source": [
    "### Classificação dos Tipos de Dados\n",
    "\n",
    "- Qualitativos\n",
    "\n",
    "    Pode ser:\n",
    "    \n",
    "        - Nominal\n",
    "        - Ordinal\n",
    "- Quantitativo\n",
    "\n",
    "    Pode ser\n",
    "\n",
    "        - Discreto\n",
    "        - Contínuo\n",
    "\n",
    "    Ou\n",
    "\n",
    "        - Intervalar\n",
    "        - Relacional"
   ]
  },
  {
   "cell_type": "markdown",
   "metadata": {},
   "source": [
    "### Impacto da escolha da escala de medida\n",
    "\n",
    "<center>\n",
    "    <table>\n",
    "        <thead>\n",
    "            <tr>\n",
    "                <th>Escala</th>\n",
    "                <th>Operações de medida</th>\n",
    "                <th>Métodos Estatísticos</th>\n",
    "            </tr>\n",
    "        </thead>\n",
    "        <tbody>\n",
    "            <tr>\n",
    "                <td>Nominal</td>\n",
    "                <td>Classificação e Contagem</td>\n",
    "                <td>Não-paramétricos</td>\n",
    "            </tr>\n",
    "            <!-- -->\n",
    "            <tr>\n",
    "                <td>Ordinal</td>\n",
    "                <td>Todos acima e Ranqueamento</td>\n",
    "                <td>Não-paramétricos</td>\n",
    "            </tr>\n",
    "            <!-- -->\n",
    "            <tr>\n",
    "                <td>Intevalar</td>\n",
    "                <td>Todos acima mais Adição e Subtração</td>\n",
    "                <td>Paramétricos</td>\n",
    "            </tr>\n",
    "            <!-- -->\n",
    "            <tr>\n",
    "                <td>Relacional</td>\n",
    "                <td>Todos acima mais Multiplicação e Divsão</td>\n",
    "                <td>Paramétricos</td>\n",
    "            </tr>\n",
    "        </tbody>\n",
    "    </table>\n",
    "</center>"
   ]
  },
  {
   "cell_type": "markdown",
   "metadata": {},
   "source": [
    "## *Data Analytics*\n",
    "\n"
   ]
  },
  {
   "cell_type": "markdown",
   "metadata": {},
   "source": [
    "*Data Analytics*  é definida como \"o processo científico de transformar dados em *insights* para tomar melhores decisões\"."
   ]
  },
  {
   "cell_type": "markdown",
   "metadata": {},
   "source": [
    "Segundo James Evans:\n",
    "\n",
    "    *Data Analytics* utiliza dados, tecnologia da informação, análise estatística, métodos quantitativos e modelos matemáticos e computacionais ára ajudar gestores a obter uma visão apromorada sobre suas operações de negócios e a tomar melhores decisões baseados em fatos."
   ]
  },
  {
   "cell_type": "markdown",
   "metadata": {},
   "source": [
    "### Exemplos de uso de *Data Analytics*:\n",
    "\n",
    "- Determinar risco de crédito\n",
    "- Desenvolver novos medicamentos\n",
    "- Encontrar formas mais eficientes de entregar produtos e serviços\n",
    "- Prever fraudes\n",
    "- Descobrir ameaças cibernéticas\n",
    "- Reter clientes mais valiosos"
   ]
  },
  {
   "cell_type": "markdown",
   "metadata": {},
   "source": [
    "## *Data Analysis*"
   ]
  },
  {
   "cell_type": "markdown",
   "metadata": {},
   "source": [
    "*Data Analysis* ou Análise de Dados é o processo de examinar, transformar e organizar dados brutos de uma maneira específica para gerar informações a partir deles."
   ]
  },
  {
   "cell_type": "markdown",
   "metadata": {},
   "source": [
    "A Análise de Dados permite avaliar dados por meio de raciocício analítico e lógico para levar a algum tipo de resultado ou conclusão em algum contexto."
   ]
  },
  {
   "cell_type": "markdown",
   "metadata": {},
   "source": [
    "<center>\n",
    "    <table>\n",
    "        <thead>\n",
    "            <tr>\n",
    "                <th>Analysis</th>\n",
    "                <th>Analytics</th>\n",
    "            </tr>\n",
    "        </thead>\n",
    "        <tbody>\n",
    "            <tr>\n",
    "                <td>Passado</td>\n",
    "                <td>Futuro</td>\n",
    "            </tr>\n",
    "        </tbody>\n",
    "    </table>\n",
    "</center>\n",
    "\n"
   ]
  },
  {
   "cell_type": "markdown",
   "metadata": {},
   "source": [
    "## Tipos de Data Analytics"
   ]
  },
  {
   "cell_type": "markdown",
   "metadata": {},
   "source": [
    "- Análise Descritiva\n",
    "- Análise Diagnóstica\n",
    "- Análise Preditiva\n",
    "- Análise Prescritiva"
   ]
  },
  {
   "cell_type": "markdown",
   "metadata": {},
   "source": [
    "<center>\n",
    "    <figure>\n",
    "        <figcaption>Figura 1 - Tipos de Data Analytics.</figcaption>\n",
    "        <img src=\"images/data-analytics-types.png\" alt=\"Tipos de Data Analytics\" style=\"width:50%\">\n",
    "        <figcaption><small>Fonte: https://www.governanceanalytics.org/knowledge-base/Main_Tools/Data_classification_and_analysis</small></figcaption>\n",
    "    </figure>\n",
    "</center>"
   ]
  },
  {
   "cell_type": "markdown",
   "metadata": {},
   "source": []
  }
 ],
 "metadata": {
  "language_info": {
   "name": "python"
  },
  "orig_nbformat": 4
 },
 "nbformat": 4,
 "nbformat_minor": 2
}
