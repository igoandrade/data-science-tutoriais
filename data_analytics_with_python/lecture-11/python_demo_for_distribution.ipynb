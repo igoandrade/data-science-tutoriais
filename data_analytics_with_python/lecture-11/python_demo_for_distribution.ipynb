{
 "cells": [
  {
   "cell_type": "markdown",
   "metadata": {},
   "source": [
    "# Distribuições de probabilidade com python"
   ]
  },
  {
   "cell_type": "markdown",
   "metadata": {},
   "source": [
    "Bibliotecas importadas"
   ]
  },
  {
   "cell_type": "code",
   "execution_count": 12,
   "metadata": {},
   "outputs": [],
   "source": [
    "import math\n",
    "import numpy as np \n",
    "import matplotlib.pyplot as plt \n",
    "import scipy\n",
    "from scipy.stats import binom\n"
   ]
  },
  {
   "cell_type": "code",
   "execution_count": 3,
   "metadata": {},
   "outputs": [],
   "source": [
    "plt.style.use('bmh')"
   ]
  },
  {
   "cell_type": "markdown",
   "metadata": {},
   "source": [
    "## Problemas"
   ]
  },
  {
   "cell_type": "markdown",
   "metadata": {},
   "source": [
    "![](http://www.stat.yale.edu/Courses/1997-98/101/binpdf.gif)"
   ]
  },
  {
   "cell_type": "markdown",
   "metadata": {},
   "source": [
    "1. Uma pesquisa encontrou que 65% de todos os clientes  estão satisfeitos com suas instituições fiananceiras. Suponha que 25 clientes são escolhidos aleatoriamente e se o resultado da pesquisa ainda é válido atualmente, qual é a probabilidade de que exatamente 19 clientes estejam satisfeitos com suas instituições financeiras?"
   ]
  },
  {
   "cell_type": "markdown",
   "metadata": {},
   "source": [
    "\\begin{align*}\n",
    "    P(X = x) = \\binom{n}{x} p^x (1-p)^{n - x} \\Rightarrow &P(X = 19) = \\binom{25}{19} \\cdot 0,65^{19} \\cdot (1 - 0,65)^{6} \\\\\n",
    "    &P(X = 19) = 0,09078\\\\\n",
    "    &P(X = 19) = 9,078\\%\n",
    "\\end{align*}"
   ]
  },
  {
   "cell_type": "code",
   "execution_count": 15,
   "metadata": {},
   "outputs": [
    {
     "name": "stdout",
     "output_type": "stream",
     "text": [
      "A probabilidade é igual a 9.078%.\n"
     ]
    }
   ],
   "source": [
    "p = binom.pmf(k=19, n=25, p=0.65)\n",
    "print(f\"A probabilidade é igual a {100 * p:.3f}%.\")"
   ]
  },
  {
   "cell_type": "code",
   "execution_count": 10,
   "metadata": {},
   "outputs": [],
   "source": []
  },
  {
   "cell_type": "markdown",
   "metadata": {},
   "source": [
    "2. De acordo com o Departamento de Censo dos Estados Unidos, aproximadamente 6% de todos os trabalhadores em Jackson, Mississipi, estão desempregados. Em uma pesquisa aleatória feita por telefone em Jackson, qual é a probabilidade de obter dois ou menos desempregados em uma amostra de 20?"
   ]
  },
  {
   "cell_type": "markdown",
   "metadata": {},
   "source": [
    "\\begin{align*}\n",
    "    P(X \\leq 2) &= P(X = 0) + P(X = 1) + P(X = 2)\\\\\n",
    "    &= \\binom{20}{0}\\cdot 0,06^0 \\cdot 0,94^{20} + \\binom{20}{1}\\cdot 0,06^1 \\cdot 0,94^{19} + \\binom{20}{2}\\cdot 0,06^2 \\cdot 0,94^{18}\\\\\n",
    "    &= 0,2901 + 0,3703 + 0,2246\\\\\n",
    "    &= 0,8850\\\\\n",
    "    &= 88,50\\%\n",
    "\\end{align*}\n",
    "\n"
   ]
  },
  {
   "cell_type": "code",
   "execution_count": 21,
   "metadata": {},
   "outputs": [
    {
     "name": "stdout",
     "output_type": "stream",
     "text": [
      "A probabilidade é igual a 88.50%.\n"
     ]
    }
   ],
   "source": [
    "p = binom.cdf(2, 20, 0.06)\n",
    "print(f\"A probabilidade é igual a {100 * p:.2f}%.\")"
   ]
  },
  {
   "cell_type": "code",
   "execution_count": 24,
   "metadata": {},
   "outputs": [
    {
     "data": {
      "text/plain": [
       "0.8850275957378542"
      ]
     },
     "execution_count": 24,
     "metadata": {},
     "output_type": "execute_result"
    }
   ],
   "source": [
    "binom.pmf(2,20,0.06) + binom.pmf(1,20,0.06) + binom.pmf(0,20,0.06)"
   ]
  },
  {
   "cell_type": "code",
   "execution_count": null,
   "metadata": {},
   "outputs": [],
   "source": []
  }
 ],
 "metadata": {
  "kernelspec": {
   "display_name": "Python 3.8.13 64-bit ('3.8.13')",
   "language": "python",
   "name": "python3"
  },
  "language_info": {
   "codemirror_mode": {
    "name": "ipython",
    "version": 3
   },
   "file_extension": ".py",
   "mimetype": "text/x-python",
   "name": "python",
   "nbconvert_exporter": "python",
   "pygments_lexer": "ipython3",
   "version": "3.8.13"
  },
  "orig_nbformat": 4,
  "vscode": {
   "interpreter": {
    "hash": "110cc1dee26208153f2972f08a2ad52b6a56238dc66d48e87fb757ef2996db56"
   }
  }
 },
 "nbformat": 4,
 "nbformat_minor": 2
}
