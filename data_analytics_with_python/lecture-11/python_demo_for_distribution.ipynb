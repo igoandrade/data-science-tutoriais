{
 "cells": [
  {
   "cell_type": "markdown",
   "metadata": {},
   "source": [
    "# Distribuições de probabilidade com python"
   ]
  },
  {
   "cell_type": "markdown",
   "metadata": {},
   "source": [
    "Bibliotecas importadas"
   ]
  },
  {
   "cell_type": "code",
   "execution_count": 1,
   "metadata": {},
   "outputs": [],
   "source": [
    "import math\n",
    "import numpy as np \n",
    "import matplotlib.pyplot as plt \n",
    "import scipy\n",
    "from scipy.stats import binom\n",
    "from scipy.stats import poisson"
   ]
  },
  {
   "cell_type": "code",
   "execution_count": 2,
   "metadata": {},
   "outputs": [],
   "source": [
    "plt.style.use('bmh')"
   ]
  },
  {
   "cell_type": "markdown",
   "metadata": {},
   "source": [
    "## Problemas"
   ]
  },
  {
   "cell_type": "markdown",
   "metadata": {},
   "source": [
    "### Distribuição binomial"
   ]
  },
  {
   "cell_type": "markdown",
   "metadata": {},
   "source": [
    "1. Uma pesquisa encontrou que 65% de todos os clientes  estão satisfeitos com suas instituições fiananceiras. Suponha que 25 clientes são escolhidos aleatoriamente e se o resultado da pesquisa ainda é válido atualmente, qual é a probabilidade de que exatamente 19 clientes estejam satisfeitos com suas instituições financeiras?"
   ]
  },
  {
   "cell_type": "markdown",
   "metadata": {},
   "source": [
    "\\begin{align*}\n",
    "    P(X = x) = \\binom{n}{x} p^x (1-p)^{n - x} \\Rightarrow &P(X = 19) = \\binom{25}{19} \\cdot 0,65^{19} \\cdot (1 - 0,65)^{6} \\\\\n",
    "    &P(X = 19) = 0,09078\\\\\n",
    "    &P(X = 19) = 9,078\\%\n",
    "\\end{align*}"
   ]
  },
  {
   "cell_type": "code",
   "execution_count": 3,
   "metadata": {},
   "outputs": [
    {
     "name": "stdout",
     "output_type": "stream",
     "text": [
      "A probabilidade é igual a 9.078%.\n"
     ]
    }
   ],
   "source": [
    "p = binom.pmf(k=19, n=25, p=0.65)\n",
    "print(f\"A probabilidade é igual a {100 * p:.3f}%.\")"
   ]
  },
  {
   "cell_type": "markdown",
   "metadata": {},
   "source": [
    "2. De acordo com o Departamento de Censo dos Estados Unidos, aproximadamente 6% de todos os trabalhadores em Jackson, Mississipi, estão desempregados. Em uma pesquisa aleatória feita por telefone em Jackson, qual é a probabilidade de obter dois ou menos desempregados em uma amostra de 20?"
   ]
  },
  {
   "cell_type": "markdown",
   "metadata": {},
   "source": [
    "\\begin{align*}\n",
    "    P(X \\leq 2) &= P(X = 0) + P(X = 1) + P(X = 2)\\\\\n",
    "    &= \\binom{20}{0}\\cdot 0,06^0 \\cdot 0,94^{20} + \\binom{20}{1}\\cdot 0,06^1 \\cdot 0,94^{19} + \\binom{20}{2}\\cdot 0,06^2 \\cdot 0,94^{18}\\\\\n",
    "    &= 0,2901 + 0,3703 + 0,2246\\\\\n",
    "    &= 0,8850\\\\\n",
    "    &= 88,50\\%\n",
    "\\end{align*}\n",
    "\n"
   ]
  },
  {
   "cell_type": "code",
   "execution_count": 4,
   "metadata": {},
   "outputs": [
    {
     "name": "stdout",
     "output_type": "stream",
     "text": [
      "A probabilidade é igual a 88.50%.\n"
     ]
    }
   ],
   "source": [
    "p = binom.cdf(2, 20, 0.06)\n",
    "print(f\"A probabilidade é igual a {100 * p:.2f}%.\")"
   ]
  },
  {
   "cell_type": "markdown",
   "metadata": {},
   "source": [
    "### Distribuição de Poisson"
   ]
  },
  {
   "cell_type": "markdown",
   "metadata": {},
   "source": [
    "3. Suponha que os clientes do banco cheguem aleatoriamente nas tardes dos dias úteis à media de 3,2 clientes a cada 4 minutos. Qual é a probabiliade de que exatamente 5 clientes cheguem em um intervalo de 4 minutos de uma tarde de dia útil?"
   ]
  },
  {
   "cell_type": "markdown",
   "metadata": {},
   "source": [
    "\\begin{align*}\n",
    "    P(X = x; \\lambda) = \\dfrac{\\lambda^x e^{-\\lambda}}{x!} &\\Rightarrow P(X = 5; \\lambda=3,2) = \\dfrac{3,2^5 e^{-3,2}}{5!}\\\\\n",
    "    &\\Rightarrow P(X=5;\\lambda=3,2) = 0,1140\\\\\n",
    "    &\\Rightarrow P(X=5;\\lambda=3,2) =  11,40%\n",
    "\\end{align*}"
   ]
  },
  {
   "cell_type": "code",
   "execution_count": 9,
   "metadata": {},
   "outputs": [
    {
     "name": "stdout",
     "output_type": "stream",
     "text": [
      "A probabilidade é igual a 11.40%.\n"
     ]
    }
   ],
   "source": [
    "p = poisson.pmf(5, 3.2)\n",
    "print(f\"A probabilidade é igual a {100 * p:.2f}%.\")"
   ]
  },
  {
   "cell_type": "markdown",
   "metadata": {},
   "source": [
    "5. Clientes de um banco chegam aleatoriamente nas tardes dos dias úteis à media de 3,2 clientes a cada 4 minutos. Qual é a probabiliade de ter mais do que 7 clientes em um intervalo de 4 minutos de uma tarde de dia útil?"
   ]
  },
  {
   "cell_type": "markdown",
   "metadata": {},
   "source": [
    "5. Clientes de um banco chegam aleatoriamente nas tardes dos dias úteis à media de 3,2 clientes a cada 4 minutos. Qual é a probabiliade de queexatamente 10 clientes cheguem em um intervalo de 8 minutos de uma tarde de dia útil?"
   ]
  },
  {
   "cell_type": "markdown",
   "metadata": {},
   "source": [
    "\\begin{align*}\n",
    "    P(X>7; \\lambda) &= 1 - P(X \\leq 7; \\lambda) = 1 - \\left(P(X=0;\\lambda) + P(X=1;\\lambda) + \\cdots + P(X=7;\\lambda)\\right)\\\\\n",
    "    &= 1 - (0.04076 + 0.13044 + 0.2087 + 0.2226 0.1781 + 0.1140 + 0.0608 + 0.0278)\\\\\n",
    "    &= 0,0168\\\\\n",
    "    &= 1,68\\%\n",
    "\\end{align*}"
   ]
  },
  {
   "cell_type": "code",
   "execution_count": 16,
   "metadata": {},
   "outputs": [
    {
     "name": "stdout",
     "output_type": "stream",
     "text": [
      "A probabilidade é igual a 1.68%.\n"
     ]
    }
   ],
   "source": [
    "p = 1 - poisson.cdf(7, 3.2)\n",
    "\n",
    "print(f\"A probabilidade é igual a {100 * p:.2f}%.\")\n"
   ]
  },
  {
   "cell_type": "markdown",
   "metadata": {},
   "source": [
    "$\\lambda$ = 3,2 clientes / 4 min. $\\Leftrightarrow$ 6,4 clientes / 8 min.\n",
    "\n",
    "\\begin{align*}\n",
    "    P(X = x; \\lambda) = \\dfrac{\\lambda^x e^{-\\lambda}}{x!} &\\Rightarrow P(X = 10; \\lambda=6,4) = \\dfrac{6,4^{10} e^{-6,4}}{10!}\\\\\n",
    "    &\\Rightarrow P(X=10;\\lambda=6,4) = 0,0528\\\\\n",
    "    &\\Rightarrow P(X=10;\\lambda=6,4) =  5,28\\%\n",
    "\\end{align*}"
   ]
  },
  {
   "cell_type": "code",
   "execution_count": 12,
   "metadata": {},
   "outputs": [
    {
     "name": "stdout",
     "output_type": "stream",
     "text": [
      "A probabilidade é igual a 5.28%.\n"
     ]
    }
   ],
   "source": [
    "p = poisson.pmf(10, 6.4)\n",
    "print(f\"A probabilidade é igual a {100 * p:.2f}%.\")"
   ]
  },
  {
   "cell_type": "code",
   "execution_count": null,
   "metadata": {},
   "outputs": [],
   "source": []
  }
 ],
 "metadata": {
  "kernelspec": {
   "display_name": "Python 3.8.13 64-bit ('3.8.13')",
   "language": "python",
   "name": "python3"
  },
  "language_info": {
   "codemirror_mode": {
    "name": "ipython",
    "version": 3
   },
   "file_extension": ".py",
   "mimetype": "text/x-python",
   "name": "python",
   "nbconvert_exporter": "python",
   "pygments_lexer": "ipython3",
   "version": "3.8.13"
  },
  "orig_nbformat": 4,
  "vscode": {
   "interpreter": {
    "hash": "110cc1dee26208153f2972f08a2ad52b6a56238dc66d48e87fb757ef2996db56"
   }
  }
 },
 "nbformat": 4,
 "nbformat_minor": 2
}
