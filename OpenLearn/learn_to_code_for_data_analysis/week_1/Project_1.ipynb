{
 "cells": [
  {
   "cell_type": "markdown",
   "metadata": {},
   "source": [
    "# Mortes por tuberculose em países de língua portuguesa"
   ]
  },
  {
   "cell_type": "markdown",
   "metadata": {},
   "source": [
    "Durante a Conferência das Nações Unidas, realizada em 2012 no Rio de Janeiro (Brasil), a Organzação das Nações Unidas (ONU) estabeleceu os 17 Objetivos de Desenvolvimento Sustentável (ODS). \"Os Objetivos de Desenvolvimento Sustentável são um apelo global à ação para acabar com a pobreza, proteger o meio ambiente e o clima e garantir que as pessoas, em todos os lugares, possam desfrutar de paz e de prosperidade\" ([ONU, 2022](https://brasil.un.org/pt-br/sdgs)).\n",
    "\n",
    "Dentre os objetivos estabelecidos, a instituição deseja \"até 2030, acabar com as epidemias de AIDS, tuberculose, malária e doenças tropicais negligenciadas, e combater a hepatite, doenças transmitidas pela água, e outras doenças transmissíveis\"([ONU, 2022](https://brasil.un.org/pt-br/sdgs)).\n",
    "\n",
    "Dada a população e o número de mortes por TB em alguns países durante um ano, as seguintes perguntas serão respondidas:\n",
    "\n",
    "- Qual é o número total, máximo, mínimo e médio de óbitos naquele ano?\n",
    "- Quais países têm mais e menos mortes?\n",
    "- Qual é a taxa de mortalidade (mortes por 100.000 habitantes) para cada país?\n",
    "- Quais países têm a menor e a maior taxa de mortalidade?\n",
    "\n",
    "A taxa de mortalidade permite uma melhor comparação de países com tamanhos populacionais muito diferentes."
   ]
  },
  {
   "cell_type": "markdown",
   "metadata": {},
   "source": [
    "## Os dados"
   ]
  },
  {
   "cell_type": "markdown",
   "metadata": {},
   "source": [
    "Os dados consistem na população total e no número total de óbitos por TB (excluindo HIV) em 2013 em cada um dos BRICS (Brasil, Rússia, Índia, China, África do Sul) e países de língua portuguesa."
   ]
  },
  {
   "cell_type": "code",
   "execution_count": 1,
   "metadata": {},
   "outputs": [],
   "source": [
    "import pandas as pd\n",
    "import matplotlib.pyplot as plt"
   ]
  },
  {
   "cell_type": "code",
   "execution_count": 7,
   "metadata": {},
   "outputs": [
    {
     "data": {
      "text/html": [
       "<div>\n",
       "<style scoped>\n",
       "    .dataframe tbody tr th:only-of-type {\n",
       "        vertical-align: middle;\n",
       "    }\n",
       "\n",
       "    .dataframe tbody tr th {\n",
       "        vertical-align: top;\n",
       "    }\n",
       "\n",
       "    .dataframe thead th {\n",
       "        text-align: right;\n",
       "    }\n",
       "</style>\n",
       "<table border=\"1\" class=\"dataframe\">\n",
       "  <thead>\n",
       "    <tr style=\"text-align: right;\">\n",
       "      <th></th>\n",
       "      <th>Country</th>\n",
       "      <th>Year</th>\n",
       "      <th>TB Deaths</th>\n",
       "      <th>TB Deanths (per 100,000)</th>\n",
       "    </tr>\n",
       "  </thead>\n",
       "  <tbody>\n",
       "    <tr>\n",
       "      <th>0</th>\n",
       "      <td>Afghanistan</td>\n",
       "      <td>2020</td>\n",
       "      <td>11000 [6300-16000]</td>\n",
       "      <td>27 [16-41]</td>\n",
       "    </tr>\n",
       "    <tr>\n",
       "      <th>1</th>\n",
       "      <td>Afghanistan</td>\n",
       "      <td>2019</td>\n",
       "      <td>9800 [5900-15000]</td>\n",
       "      <td>26 [15-39]</td>\n",
       "    </tr>\n",
       "    <tr>\n",
       "      <th>2</th>\n",
       "      <td>Afghanistan</td>\n",
       "      <td>2018</td>\n",
       "      <td>11000 [6400-16000]</td>\n",
       "      <td>29 [17-44]</td>\n",
       "    </tr>\n",
       "    <tr>\n",
       "      <th>3</th>\n",
       "      <td>Afghanistan</td>\n",
       "      <td>2017</td>\n",
       "      <td>11000 [6400-16000]</td>\n",
       "      <td>30 [18-45]</td>\n",
       "    </tr>\n",
       "    <tr>\n",
       "      <th>4</th>\n",
       "      <td>Afghanistan</td>\n",
       "      <td>2016</td>\n",
       "      <td>12000 [7100-18000]</td>\n",
       "      <td>34 [20-51]</td>\n",
       "    </tr>\n",
       "  </tbody>\n",
       "</table>\n",
       "</div>"
      ],
      "text/plain": [
       "       Country  Year           TB Deaths TB Deanths (per 100,000)\n",
       "0  Afghanistan  2020  11000 [6300-16000]               27 [16-41]\n",
       "1  Afghanistan  2019   9800 [5900-15000]               26 [15-39]\n",
       "2  Afghanistan  2018  11000 [6400-16000]               29 [17-44]\n",
       "3  Afghanistan  2017  11000 [6400-16000]               30 [18-45]\n",
       "4  Afghanistan  2016  12000 [7100-18000]               34 [20-51]"
      ]
     },
     "execution_count": 7,
     "metadata": {},
     "output_type": "execute_result"
    }
   ],
   "source": [
    "data = pd.read_csv('../data/who_pop_all.csv')\n",
    "data.columns=['Country', 'Year', 'TB Deaths', 'TB Deanths (per 100,000)']\n",
    "data.head()"
   ]
  },
  {
   "cell_type": "markdown",
   "metadata": {},
   "source": []
  }
 ],
 "metadata": {
  "kernelspec": {
   "display_name": "Python 3.8.13 64-bit ('3.8.13')",
   "language": "python",
   "name": "python3"
  },
  "language_info": {
   "codemirror_mode": {
    "name": "ipython",
    "version": 3
   },
   "file_extension": ".py",
   "mimetype": "text/x-python",
   "name": "python",
   "nbconvert_exporter": "python",
   "pygments_lexer": "ipython3",
   "version": "3.8.13"
  },
  "orig_nbformat": 4,
  "vscode": {
   "interpreter": {
    "hash": "110cc1dee26208153f2972f08a2ad52b6a56238dc66d48e87fb757ef2996db56"
   }
  }
 },
 "nbformat": 4,
 "nbformat_minor": 2
}
