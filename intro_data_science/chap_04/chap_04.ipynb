{
 "cells": [
  {
   "cell_type": "markdown",
   "metadata": {},
   "source": [
    "# Inferência Estatística"
   ]
  },
  {
   "cell_type": "code",
   "execution_count": 98,
   "metadata": {},
   "outputs": [],
   "source": [
    "import numpy as np\n",
    "import pandas as pd \n",
    "import random\n",
    "import matplotlib.pyplot as plt"
   ]
  },
  {
   "cell_type": "code",
   "execution_count": 3,
   "metadata": {},
   "outputs": [],
   "source": [
    "plt.style.use('bmh')"
   ]
  },
  {
   "cell_type": "markdown",
   "metadata": {},
   "source": [
    "## Análise dos dados de acidentes em Barcelona em 2013"
   ]
  },
  {
   "cell_type": "markdown",
   "metadata": {},
   "source": [
    "O conjunto de dados referem-se a acidentes de trânsito em Barcelona ocorridos em 2013. Os dados originais podem ser encontrados nessse endereço: [http://opendata.bcn.cat/](http://opendata.bcn.cat/)."
   ]
  },
  {
   "cell_type": "code",
   "execution_count": 4,
   "metadata": {},
   "outputs": [
    {
     "data": {
      "text/html": [
       "<div>\n",
       "<style scoped>\n",
       "    .dataframe tbody tr th:only-of-type {\n",
       "        vertical-align: middle;\n",
       "    }\n",
       "\n",
       "    .dataframe tbody tr th {\n",
       "        vertical-align: top;\n",
       "    }\n",
       "\n",
       "    .dataframe thead th {\n",
       "        text-align: right;\n",
       "    }\n",
       "</style>\n",
       "<table border=\"1\" class=\"dataframe\">\n",
       "  <thead>\n",
       "    <tr style=\"text-align: right;\">\n",
       "      <th></th>\n",
       "      <th>Número d'expedient</th>\n",
       "      <th>Codi districte</th>\n",
       "      <th>Nom districte</th>\n",
       "      <th>NK barri</th>\n",
       "      <th>Nom barri</th>\n",
       "      <th>Codi carrer</th>\n",
       "      <th>Nom carrer</th>\n",
       "      <th>Num postal caption</th>\n",
       "      <th>Descripció dia setmana</th>\n",
       "      <th>Dia de setmana</th>\n",
       "      <th>...</th>\n",
       "      <th>Hora de dia</th>\n",
       "      <th>Descripció torn</th>\n",
       "      <th>Descripció causa vianant</th>\n",
       "      <th>Número de morts</th>\n",
       "      <th>Número de lesionats lleus</th>\n",
       "      <th>Número de lesionats greus</th>\n",
       "      <th>Número de víctimes</th>\n",
       "      <th>Número de vehicles implicats</th>\n",
       "      <th>Coordenada UTM (Y)</th>\n",
       "      <th>Coordenada UTM (X)</th>\n",
       "    </tr>\n",
       "  </thead>\n",
       "  <tbody>\n",
       "    <tr>\n",
       "      <th>0</th>\n",
       "      <td>2013S007360</td>\n",
       "      <td>-1</td>\n",
       "      <td>Desconegut</td>\n",
       "      <td>-1--1--1</td>\n",
       "      <td>Desconegut</td>\n",
       "      <td>-1</td>\n",
       "      <td>Desconegut</td>\n",
       "      <td>Desconegut</td>\n",
       "      <td>Dimecres</td>\n",
       "      <td>3</td>\n",
       "      <td>...</td>\n",
       "      <td>21</td>\n",
       "      <td>Tarda</td>\n",
       "      <td>Desconegut</td>\n",
       "      <td>0</td>\n",
       "      <td>1</td>\n",
       "      <td>0</td>\n",
       "      <td>1</td>\n",
       "      <td>2</td>\n",
       "      <td>-1</td>\n",
       "      <td>-1</td>\n",
       "    </tr>\n",
       "    <tr>\n",
       "      <th>1</th>\n",
       "      <td>2013S007723</td>\n",
       "      <td>10</td>\n",
       "      <td>Sant Martí</td>\n",
       "      <td>101-10-64</td>\n",
       "      <td>el Camp de l'Arpa del Clot</td>\n",
       "      <td>152600</td>\n",
       "      <td>Guinardó</td>\n",
       "      <td>0028 0032</td>\n",
       "      <td>Dimarts</td>\n",
       "      <td>2</td>\n",
       "      <td>...</td>\n",
       "      <td>21</td>\n",
       "      <td>Tarda</td>\n",
       "      <td>Desconegut</td>\n",
       "      <td>0</td>\n",
       "      <td>1</td>\n",
       "      <td>0</td>\n",
       "      <td>1</td>\n",
       "      <td>2</td>\n",
       "      <td>4585218,67</td>\n",
       "      <td>431621,41</td>\n",
       "    </tr>\n",
       "    <tr>\n",
       "      <th>2</th>\n",
       "      <td>2013S005373</td>\n",
       "      <td>10</td>\n",
       "      <td>Sant Martí</td>\n",
       "      <td>101-10-64</td>\n",
       "      <td>el Camp de l'Arpa del Clot</td>\n",
       "      <td>134801</td>\n",
       "      <td>Freser</td>\n",
       "      <td>0053 0053</td>\n",
       "      <td>Dimarts</td>\n",
       "      <td>2</td>\n",
       "      <td>...</td>\n",
       "      <td>10</td>\n",
       "      <td>Matí</td>\n",
       "      <td>Creuar per fora pas de vianants</td>\n",
       "      <td>0</td>\n",
       "      <td>1</td>\n",
       "      <td>0</td>\n",
       "      <td>1</td>\n",
       "      <td>1</td>\n",
       "      <td>4585049,89</td>\n",
       "      <td>431605,09</td>\n",
       "    </tr>\n",
       "    <tr>\n",
       "      <th>3</th>\n",
       "      <td>2013S001486</td>\n",
       "      <td>10</td>\n",
       "      <td>Sant Martí</td>\n",
       "      <td>101-10-64</td>\n",
       "      <td>el Camp de l'Arpa del Clot</td>\n",
       "      <td>161407</td>\n",
       "      <td>Indústria</td>\n",
       "      <td>0224 0224</td>\n",
       "      <td>Dimarts</td>\n",
       "      <td>2</td>\n",
       "      <td>...</td>\n",
       "      <td>10</td>\n",
       "      <td>Matí</td>\n",
       "      <td>Altres</td>\n",
       "      <td>0</td>\n",
       "      <td>1</td>\n",
       "      <td>0</td>\n",
       "      <td>1</td>\n",
       "      <td>1</td>\n",
       "      <td>4584836,20</td>\n",
       "      <td>431302,26</td>\n",
       "    </tr>\n",
       "    <tr>\n",
       "      <th>4</th>\n",
       "      <td>2013S008254</td>\n",
       "      <td>10</td>\n",
       "      <td>Sant Martí</td>\n",
       "      <td>101-10-64</td>\n",
       "      <td>el Camp de l'Arpa del Clot</td>\n",
       "      <td>161101</td>\n",
       "      <td>Independència</td>\n",
       "      <td>0357 0357</td>\n",
       "      <td>Dilluns</td>\n",
       "      <td>1</td>\n",
       "      <td>...</td>\n",
       "      <td>16</td>\n",
       "      <td>Tarda</td>\n",
       "      <td>Desconegut</td>\n",
       "      <td>0</td>\n",
       "      <td>1</td>\n",
       "      <td>0</td>\n",
       "      <td>1</td>\n",
       "      <td>2</td>\n",
       "      <td>4584704,26</td>\n",
       "      <td>431385,76</td>\n",
       "    </tr>\n",
       "  </tbody>\n",
       "</table>\n",
       "<p>5 rows × 25 columns</p>\n",
       "</div>"
      ],
      "text/plain": [
       "  Número d'expedient  Codi districte Nom districte   NK barri  \\\n",
       "0        2013S007360              -1    Desconegut   -1--1--1   \n",
       "1        2013S007723              10    Sant Martí  101-10-64   \n",
       "2        2013S005373              10    Sant Martí  101-10-64   \n",
       "3        2013S001486              10    Sant Martí  101-10-64   \n",
       "4        2013S008254              10    Sant Martí  101-10-64   \n",
       "\n",
       "                    Nom barri  Codi carrer     Nom carrer Num postal caption  \\\n",
       "0                  Desconegut           -1     Desconegut         Desconegut   \n",
       "1  el Camp de l'Arpa del Clot       152600       Guinardó          0028 0032   \n",
       "2  el Camp de l'Arpa del Clot       134801         Freser          0053 0053   \n",
       "3  el Camp de l'Arpa del Clot       161407      Indústria          0224 0224   \n",
       "4  el Camp de l'Arpa del Clot       161101  Independència          0357 0357   \n",
       "\n",
       "  Descripció dia setmana  Dia de setmana  ... Hora de dia  Descripció torn  \\\n",
       "0               Dimecres               3  ...          21            Tarda   \n",
       "1                Dimarts               2  ...          21            Tarda   \n",
       "2                Dimarts               2  ...          10             Matí   \n",
       "3                Dimarts               2  ...          10             Matí   \n",
       "4                Dilluns               1  ...          16            Tarda   \n",
       "\n",
       "          Descripció causa vianant Número de morts  Número de lesionats lleus  \\\n",
       "0                       Desconegut               0                          1   \n",
       "1                       Desconegut               0                          1   \n",
       "2  Creuar per fora pas de vianants               0                          1   \n",
       "3                           Altres               0                          1   \n",
       "4                       Desconegut               0                          1   \n",
       "\n",
       "   Número de lesionats greus Número de víctimes Número de vehicles implicats  \\\n",
       "0                          0                  1                            2   \n",
       "1                          0                  1                            2   \n",
       "2                          0                  1                            1   \n",
       "3                          0                  1                            1   \n",
       "4                          0                  1                            2   \n",
       "\n",
       "   Coordenada UTM (Y)  Coordenada UTM (X)  \n",
       "0                  -1                  -1  \n",
       "1          4585218,67           431621,41  \n",
       "2          4585049,89           431605,09  \n",
       "3          4584836,20           431302,26  \n",
       "4          4584704,26           431385,76  \n",
       "\n",
       "[5 rows x 25 columns]"
      ]
     },
     "execution_count": 4,
     "metadata": {},
     "output_type": "execute_result"
    }
   ],
   "source": [
    "data = pd.read_csv('../data/ACCIDENTS_GU_BCN_2013.csv', encoding = 'unicode_escape', engine ='python')\n",
    "data.head()"
   ]
  },
  {
   "cell_type": "code",
   "execution_count": 5,
   "metadata": {},
   "outputs": [],
   "source": [
    "data['Date'] = data['Dia de mes'].apply(lambda x: str(x)) + '-' + data['Mes de any'].apply(lambda x: str(x)) + '-2013'\n",
    "data['Date'] = pd.to_datetime(data['Date'], format='%d-%m-%Y')"
   ]
  },
  {
   "cell_type": "code",
   "execution_count": 6,
   "metadata": {},
   "outputs": [
    {
     "data": {
      "text/html": [
       "<div>\n",
       "<style scoped>\n",
       "    .dataframe tbody tr th:only-of-type {\n",
       "        vertical-align: middle;\n",
       "    }\n",
       "\n",
       "    .dataframe tbody tr th {\n",
       "        vertical-align: top;\n",
       "    }\n",
       "\n",
       "    .dataframe thead th {\n",
       "        text-align: right;\n",
       "    }\n",
       "</style>\n",
       "<table border=\"1\" class=\"dataframe\">\n",
       "  <thead>\n",
       "    <tr style=\"text-align: right;\">\n",
       "      <th></th>\n",
       "      <th>Número d'expedient</th>\n",
       "      <th>Codi districte</th>\n",
       "      <th>Nom districte</th>\n",
       "      <th>NK barri</th>\n",
       "      <th>Nom barri</th>\n",
       "      <th>Codi carrer</th>\n",
       "      <th>Nom carrer</th>\n",
       "      <th>Num postal caption</th>\n",
       "      <th>Descripció dia setmana</th>\n",
       "      <th>Dia de setmana</th>\n",
       "      <th>...</th>\n",
       "      <th>Descripció torn</th>\n",
       "      <th>Descripció causa vianant</th>\n",
       "      <th>Número de morts</th>\n",
       "      <th>Número de lesionats lleus</th>\n",
       "      <th>Número de lesionats greus</th>\n",
       "      <th>Número de víctimes</th>\n",
       "      <th>Número de vehicles implicats</th>\n",
       "      <th>Coordenada UTM (Y)</th>\n",
       "      <th>Coordenada UTM (X)</th>\n",
       "      <th>Date</th>\n",
       "    </tr>\n",
       "  </thead>\n",
       "  <tbody>\n",
       "    <tr>\n",
       "      <th>0</th>\n",
       "      <td>2013S007360</td>\n",
       "      <td>-1</td>\n",
       "      <td>Desconegut</td>\n",
       "      <td>-1--1--1</td>\n",
       "      <td>Desconegut</td>\n",
       "      <td>-1</td>\n",
       "      <td>Desconegut</td>\n",
       "      <td>Desconegut</td>\n",
       "      <td>Dimecres</td>\n",
       "      <td>3</td>\n",
       "      <td>...</td>\n",
       "      <td>Tarda</td>\n",
       "      <td>Desconegut</td>\n",
       "      <td>0</td>\n",
       "      <td>1</td>\n",
       "      <td>0</td>\n",
       "      <td>1</td>\n",
       "      <td>2</td>\n",
       "      <td>-1</td>\n",
       "      <td>-1</td>\n",
       "      <td>2013-10-16</td>\n",
       "    </tr>\n",
       "    <tr>\n",
       "      <th>1</th>\n",
       "      <td>2013S007723</td>\n",
       "      <td>10</td>\n",
       "      <td>Sant Martí</td>\n",
       "      <td>101-10-64</td>\n",
       "      <td>el Camp de l'Arpa del Clot</td>\n",
       "      <td>152600</td>\n",
       "      <td>Guinardó</td>\n",
       "      <td>0028 0032</td>\n",
       "      <td>Dimarts</td>\n",
       "      <td>2</td>\n",
       "      <td>...</td>\n",
       "      <td>Tarda</td>\n",
       "      <td>Desconegut</td>\n",
       "      <td>0</td>\n",
       "      <td>1</td>\n",
       "      <td>0</td>\n",
       "      <td>1</td>\n",
       "      <td>2</td>\n",
       "      <td>4585218,67</td>\n",
       "      <td>431621,41</td>\n",
       "      <td>2013-10-29</td>\n",
       "    </tr>\n",
       "  </tbody>\n",
       "</table>\n",
       "<p>2 rows × 26 columns</p>\n",
       "</div>"
      ],
      "text/plain": [
       "  Número d'expedient  Codi districte Nom districte   NK barri  \\\n",
       "0        2013S007360              -1    Desconegut   -1--1--1   \n",
       "1        2013S007723              10    Sant Martí  101-10-64   \n",
       "\n",
       "                    Nom barri  Codi carrer  Nom carrer Num postal caption  \\\n",
       "0                  Desconegut           -1  Desconegut         Desconegut   \n",
       "1  el Camp de l'Arpa del Clot       152600    Guinardó          0028 0032   \n",
       "\n",
       "  Descripció dia setmana  Dia de setmana  ... Descripció torn  \\\n",
       "0               Dimecres               3  ...           Tarda   \n",
       "1                Dimarts               2  ...           Tarda   \n",
       "\n",
       "   Descripció causa vianant  Número de morts Número de lesionats lleus  \\\n",
       "0                Desconegut                0                         1   \n",
       "1                Desconegut                0                         1   \n",
       "\n",
       "   Número de lesionats greus  Número de víctimes Número de vehicles implicats  \\\n",
       "0                          0                   1                            2   \n",
       "1                          0                   1                            2   \n",
       "\n",
       "  Coordenada UTM (Y)  Coordenada UTM (X)       Date  \n",
       "0                 -1                  -1 2013-10-16  \n",
       "1         4585218,67           431621,41 2013-10-29  \n",
       "\n",
       "[2 rows x 26 columns]"
      ]
     },
     "execution_count": 6,
     "metadata": {},
     "output_type": "execute_result"
    }
   ],
   "source": [
    "data.head(2)"
   ]
  },
  {
   "cell_type": "code",
   "execution_count": 7,
   "metadata": {},
   "outputs": [
    {
     "name": "stdout",
     "output_type": "stream",
     "text": [
      "A média de acidentes por dia no ano de 2013 foi de 25.9.\n"
     ]
    }
   ],
   "source": [
    "accidents = data.groupby(['Date']).size()\n",
    "print(f\"A média de acidentes por dia no ano de 2013 foi de {accidents.mean():.1f}.\")"
   ]
  },
  {
   "cell_type": "markdown",
   "metadata": {},
   "source": [
    "### Distribuição das médias amostrais"
   ]
  },
  {
   "cell_type": "markdown",
   "metadata": {},
   "source": [
    "Consideremos a distribuição empírica das médias de $s = 10.000$ amostras com tamanho $n = 200$."
   ]
  },
  {
   "cell_type": "code",
   "execution_count": 8,
   "metadata": {},
   "outputs": [],
   "source": [
    "# população\n",
    "df = accidents.to_frame()\n",
    "N_test = 10000\n",
    "elements = 200\n",
    "# array de médias das amostras\n",
    "means = np.zeros(N_test)\n",
    "# geração das amostras\n",
    "for i in range(N_test):\n",
    "    rows = np.random.choice(df.index.values, elements)\n",
    "    sampled_df = df.loc[rows]\n",
    "    means[i] = sampled_df.values.mean()"
   ]
  },
  {
   "cell_type": "code",
   "execution_count": 9,
   "metadata": {},
   "outputs": [
    {
     "data": {
      "image/png": "[encoded data removed]",
      "text/plain": [
       "<Figure size 576x360 with 1 Axes>"
      ]
     },
     "metadata": {
      "needs_background": "light"
     },
     "output_type": "display_data"
    }
   ],
   "source": [
    "fig, ax = plt.subplots(figsize=(8, 5))\n",
    "plt.hist(means, bins=50, edgecolor='k')\n",
    "plt.axvline(means.mean(), color='r', alpha=.6, label=f\"Valor médio = {means.mean():.2f}\")\n",
    "ax.set_axisbelow(True)\n",
    "ax.set_xlabel('Quantidade de acidentes')\n",
    "ax.set_ylabel('Frequência')\n",
    "ax.set_title('Distribuição empírica das médias amostrais')\n",
    "plt.legend()\n",
    "plt.show()"
   ]
  },
  {
   "cell_type": "markdown",
   "metadata": {},
   "source": [
    "- Erro padrão ($SE$):\n",
    "\n",
    "$$SE = \\dfrac{\\sigma_x}{\\sqrt{n}}$$"
   ]
  },
  {
   "cell_type": "code",
   "execution_count": 10,
   "metadata": {},
   "outputs": [
    {
     "name": "stdout",
     "output_type": "stream",
     "text": [
      "\n",
      "    Estimativa direta de SE para uma amostra de 200 elementos: 0.6399.\n",
      "    Estimativa de SE por simulação de 10000 amostras de 200 elementos: 0.64086.\n",
      "\n"
     ]
    }
   ],
   "source": [
    "rows = np.random.choice(df.index.values, elements)\n",
    "sampled_df = df.loc[rows]\n",
    "est_sigma_mean = sampled_df.values.std() / np.sqrt(elements)\n",
    "\n",
    "print(f\"\"\"\n",
    "    Estimativa direta de SE para uma amostra de {elements} elementos: {est_sigma_mean:.4f}.\n",
    "    Estimativa de SE por simulação de {N_test} amostras de {elements} elementos: {np.array(means).std():.5f}.\n",
    "\"\"\")"
   ]
  },
  {
   "cell_type": "markdown",
   "metadata": {},
   "source": [
    "### Método de _bootstrap_"
   ]
  },
  {
   "cell_type": "code",
   "execution_count": 20,
   "metadata": {},
   "outputs": [],
   "source": [
    "def meanBootstrap(X, numberb):\n",
    "    x = np.zeros(numberb)\n",
    "    for i in range(numberb):\n",
    "        sample = [X[j] for j in np.random.randint(len(X), size=len(X))]\n",
    "        x[i] = np.mean(sample)\n",
    "    return x"
   ]
  },
  {
   "cell_type": "code",
   "execution_count": 22,
   "metadata": {},
   "outputs": [
    {
     "name": "stdout",
     "output_type": "stream",
     "text": [
      "Média estimada: 25.92\n"
     ]
    }
   ],
   "source": [
    "m = meanBootstrap(accidents.to_numpy(), 10000)\n",
    "print(f\"Média estimada: {np.mean(m):.2f}\")"
   ]
  },
  {
   "cell_type": "code",
   "execution_count": 27,
   "metadata": {},
   "outputs": [
    {
     "data": {
      "image/png": "[encoded data removed]",
      "text/plain": [
       "<Figure size 576x360 with 1 Axes>"
      ]
     },
     "metadata": {
      "needs_background": "light"
     },
     "output_type": "display_data"
    }
   ],
   "source": [
    "fig, ax = plt.subplots(figsize=(8, 5))\n",
    "plt.hist(m, bins=50, edgecolor='k')\n",
    "plt.axvline(m.mean(), color='r', alpha=.6, label=f\"Valor médio = {m.mean():.2f}\")\n",
    "ax.set_axisbelow(True)\n",
    "ax.set_xlabel('Quantidade de acidentes')\n",
    "ax.set_ylabel('Frequência')\n",
    "ax.set_title('Distribuição das médias amostrais por bootstrapping')\n",
    "plt.legend()\n",
    "plt.show()"
   ]
  },
  {
   "cell_type": "markdown",
   "metadata": {},
   "source": [
    "### Intervalos de confiança"
   ]
  },
  {
   "cell_type": "markdown",
   "metadata": {},
   "source": [
    "$$IC = \\left[ \\overline{x} - z \\cdot SE, \\overline{x} + z \\cdot SE \\right]$$"
   ]
  },
  {
   "cell_type": "code",
   "execution_count": 28,
   "metadata": {},
   "outputs": [
    {
     "name": "stdout",
     "output_type": "stream",
     "text": [
      "Intervalo de confiança: [24.98, 26.84]\n"
     ]
    }
   ],
   "source": [
    "m = accidents.values.mean()\n",
    "se = accidents.values.std() / np.sqrt(len(accidents))\n",
    "z = 1.96\n",
    "ci  = (m - z * se, m + z * se)\n",
    "\n",
    "print(f\"Intervalo de confiança: [{ci[0]:.2f}, {ci[1]:.2f}]\")"
   ]
  },
  {
   "cell_type": "code",
   "execution_count": 79,
   "metadata": {},
   "outputs": [
    {
     "data": {
      "image/png": "[encoded data removed]",
      "text/plain": [
       "<Figure size 576x360 with 1 Axes>"
      ]
     },
     "metadata": {
      "needs_background": "light"
     },
     "output_type": "display_data"
    }
   ],
   "source": [
    "fig, ax = plt.subplots(figsize=(8, 5))\n",
    "plt.hist(means, bins=50, edgecolor='k')\n",
    "plt.axvline(ci[0], color='blue', alpha=.6)\n",
    "plt.axvline(ci[1], color='blue', alpha=.6)\n",
    "plt.fill_betweenx(np.arange(0,700,100), ci[0], ci[1], color='blue', alpha=.2, label=f\"IC(95%) = [{ci[0]:.2f}, {ci[1]:.2f}]\")\n",
    "plt.axvline(m, color='r', alpha=.6, label=f\"Valor médio = {m:.2f}\")\n",
    "ax.set_axisbelow(True)\n",
    "ax.set_xlabel('Quantidade de acidentes')\n",
    "ax.set_ylabel('Frequência')\n",
    "ax.set_title('Distribuição empírica das médias amostrais')\n",
    "ax.set_ylim((0,600))\n",
    "ax.set_xlim((22.5,29.5))\n",
    "plt.legend()\n",
    "plt.show()"
   ]
  },
  {
   "cell_type": "markdown",
   "metadata": {},
   "source": [
    "### Teste de Hipóteses usando Intervalos de Confiança"
   ]
  },
  {
   "cell_type": "code",
   "execution_count": 80,
   "metadata": {},
   "outputs": [],
   "source": [
    "def get_data(year=2010):\n",
    "    data = pd.read_csv(f'../data/ACCIDENTS_GU_BCN_{year}.csv', encoding='latin-1')\n",
    "    data['Date'] = str(year) + '-' + data['Mes de any'].apply(lambda x: str(x)) + '-' + data['Dia de mes'].apply(lambda x: str(x))\n",
    "    data['Date'] = pd.to_datetime(data['Date'], format=\"%Y-%m-%d\")\n",
    "    return data"
   ]
  },
  {
   "cell_type": "code",
   "execution_count": 81,
   "metadata": {},
   "outputs": [],
   "source": [
    "data1 = get_data(2010)\n",
    "data2 = get_data(2013)"
   ]
  },
  {
   "cell_type": "code",
   "execution_count": 82,
   "metadata": {},
   "outputs": [
    {
     "data": {
      "text/html": [
       "<div>\n",
       "<style scoped>\n",
       "    .dataframe tbody tr th:only-of-type {\n",
       "        vertical-align: middle;\n",
       "    }\n",
       "\n",
       "    .dataframe tbody tr th {\n",
       "        vertical-align: top;\n",
       "    }\n",
       "\n",
       "    .dataframe thead th {\n",
       "        text-align: right;\n",
       "    }\n",
       "</style>\n",
       "<table border=\"1\" class=\"dataframe\">\n",
       "  <thead>\n",
       "    <tr style=\"text-align: right;\">\n",
       "      <th></th>\n",
       "      <th>Número d'expedient</th>\n",
       "      <th>Codi districte</th>\n",
       "      <th>Nom districte</th>\n",
       "      <th>NK barri</th>\n",
       "      <th>Nom barri</th>\n",
       "      <th>Codi carrer</th>\n",
       "      <th>Nom carrer</th>\n",
       "      <th>Num postal caption</th>\n",
       "      <th>Descripció dia setmana</th>\n",
       "      <th>Dia de setmana</th>\n",
       "      <th>...</th>\n",
       "      <th>Descripció torn</th>\n",
       "      <th>Descripció causa vianant</th>\n",
       "      <th>Número de morts</th>\n",
       "      <th>Número de lesionats lleus</th>\n",
       "      <th>Número de lesionats greus</th>\n",
       "      <th>Número de víctimes</th>\n",
       "      <th>Número de vehicles implicats</th>\n",
       "      <th>Coordenada UTM (Y)</th>\n",
       "      <th>Coordenada UTM (X)</th>\n",
       "      <th>Date</th>\n",
       "    </tr>\n",
       "  </thead>\n",
       "  <tbody>\n",
       "    <tr>\n",
       "      <th>0</th>\n",
       "      <td>2010S003688</td>\n",
       "      <td>10</td>\n",
       "      <td>Sant Martí</td>\n",
       "      <td>101-10-64</td>\n",
       "      <td>el Camp de l'Arpa del Clot</td>\n",
       "      <td>209900</td>\n",
       "      <td>Meridiana</td>\n",
       "      <td>0181 0181</td>\n",
       "      <td>Divendres</td>\n",
       "      <td>5</td>\n",
       "      <td>...</td>\n",
       "      <td>Tarda</td>\n",
       "      <td>Desconegut</td>\n",
       "      <td>0</td>\n",
       "      <td>0</td>\n",
       "      <td>0</td>\n",
       "      <td>0</td>\n",
       "      <td>1</td>\n",
       "      <td>4584941,35</td>\n",
       "      <td>432017,96</td>\n",
       "      <td>2010-05-28</td>\n",
       "    </tr>\n",
       "    <tr>\n",
       "      <th>1</th>\n",
       "      <td>2010S007597</td>\n",
       "      <td>10</td>\n",
       "      <td>Sant Martí</td>\n",
       "      <td>101-10-64</td>\n",
       "      <td>el Camp de l'Arpa del Clot</td>\n",
       "      <td>346402</td>\n",
       "      <td>Trinxant</td>\n",
       "      <td>0014 0014</td>\n",
       "      <td>Dilluns</td>\n",
       "      <td>1</td>\n",
       "      <td>...</td>\n",
       "      <td>Matí</td>\n",
       "      <td>Desconegut</td>\n",
       "      <td>0</td>\n",
       "      <td>1</td>\n",
       "      <td>0</td>\n",
       "      <td>1</td>\n",
       "      <td>2</td>\n",
       "      <td>4585041,70</td>\n",
       "      <td>432014,69</td>\n",
       "      <td>2010-11-08</td>\n",
       "    </tr>\n",
       "    <tr>\n",
       "      <th>2</th>\n",
       "      <td>2010S001390</td>\n",
       "      <td>10</td>\n",
       "      <td>Sant Martí</td>\n",
       "      <td>101-10-64</td>\n",
       "      <td>el Camp de l'Arpa del Clot</td>\n",
       "      <td>297001</td>\n",
       "      <td>Sant Antoni Maria Claret</td>\n",
       "      <td>0314 0316</td>\n",
       "      <td>Dijous</td>\n",
       "      <td>4</td>\n",
       "      <td>...</td>\n",
       "      <td>Matí</td>\n",
       "      <td>Desconegut</td>\n",
       "      <td>0</td>\n",
       "      <td>1</td>\n",
       "      <td>0</td>\n",
       "      <td>1</td>\n",
       "      <td>1</td>\n",
       "      <td>4585117,42</td>\n",
       "      <td>431401,23</td>\n",
       "      <td>2010-02-25</td>\n",
       "    </tr>\n",
       "  </tbody>\n",
       "</table>\n",
       "<p>3 rows × 26 columns</p>\n",
       "</div>"
      ],
      "text/plain": [
       "  Número d'expedient  Codi districte Nom districte   NK barri  \\\n",
       "0        2010S003688              10    Sant Martí  101-10-64   \n",
       "1        2010S007597              10    Sant Martí  101-10-64   \n",
       "2        2010S001390              10    Sant Martí  101-10-64   \n",
       "\n",
       "                    Nom barri  Codi carrer                Nom carrer  \\\n",
       "0  el Camp de l'Arpa del Clot       209900                 Meridiana   \n",
       "1  el Camp de l'Arpa del Clot       346402                  Trinxant   \n",
       "2  el Camp de l'Arpa del Clot       297001  Sant Antoni Maria Claret   \n",
       "\n",
       "  Num postal caption Descripció dia setmana  Dia de setmana  ...  \\\n",
       "0          0181 0181              Divendres               5  ...   \n",
       "1          0014 0014                Dilluns               1  ...   \n",
       "2          0314 0316                 Dijous               4  ...   \n",
       "\n",
       "  Descripció torn  Descripció causa vianant  Número de morts  \\\n",
       "0           Tarda                Desconegut                0   \n",
       "1            Matí                Desconegut                0   \n",
       "2            Matí                Desconegut                0   \n",
       "\n",
       "  Número de lesionats lleus  Número de lesionats greus  Número de víctimes  \\\n",
       "0                         0                          0                   0   \n",
       "1                         1                          0                   1   \n",
       "2                         1                          0                   1   \n",
       "\n",
       "  Número de vehicles implicats Coordenada UTM (Y)  Coordenada UTM (X)  \\\n",
       "0                            1         4584941,35           432017,96   \n",
       "1                            2         4585041,70           432014,69   \n",
       "2                            1         4585117,42           431401,23   \n",
       "\n",
       "        Date  \n",
       "0 2010-05-28  \n",
       "1 2010-11-08  \n",
       "2 2010-02-25  \n",
       "\n",
       "[3 rows x 26 columns]"
      ]
     },
     "execution_count": 82,
     "metadata": {},
     "output_type": "execute_result"
    }
   ],
   "source": [
    "data1.head(3)"
   ]
  },
  {
   "cell_type": "code",
   "execution_count": 83,
   "metadata": {},
   "outputs": [
    {
     "data": {
      "text/html": [
       "<div>\n",
       "<style scoped>\n",
       "    .dataframe tbody tr th:only-of-type {\n",
       "        vertical-align: middle;\n",
       "    }\n",
       "\n",
       "    .dataframe tbody tr th {\n",
       "        vertical-align: top;\n",
       "    }\n",
       "\n",
       "    .dataframe thead th {\n",
       "        text-align: right;\n",
       "    }\n",
       "</style>\n",
       "<table border=\"1\" class=\"dataframe\">\n",
       "  <thead>\n",
       "    <tr style=\"text-align: right;\">\n",
       "      <th></th>\n",
       "      <th>Número d'expedient</th>\n",
       "      <th>Codi districte</th>\n",
       "      <th>Nom districte</th>\n",
       "      <th>NK barri</th>\n",
       "      <th>Nom barri</th>\n",
       "      <th>Codi carrer</th>\n",
       "      <th>Nom carrer</th>\n",
       "      <th>Num postal caption</th>\n",
       "      <th>Descripció dia setmana</th>\n",
       "      <th>Dia de setmana</th>\n",
       "      <th>...</th>\n",
       "      <th>Descripció torn</th>\n",
       "      <th>Descripció causa vianant</th>\n",
       "      <th>Número de morts</th>\n",
       "      <th>Número de lesionats lleus</th>\n",
       "      <th>Número de lesionats greus</th>\n",
       "      <th>Número de víctimes</th>\n",
       "      <th>Número de vehicles implicats</th>\n",
       "      <th>Coordenada UTM (Y)</th>\n",
       "      <th>Coordenada UTM (X)</th>\n",
       "      <th>Date</th>\n",
       "    </tr>\n",
       "  </thead>\n",
       "  <tbody>\n",
       "    <tr>\n",
       "      <th>0</th>\n",
       "      <td>2013S007360</td>\n",
       "      <td>-1</td>\n",
       "      <td>Desconegut</td>\n",
       "      <td>-1--1--1</td>\n",
       "      <td>Desconegut</td>\n",
       "      <td>-1</td>\n",
       "      <td>Desconegut</td>\n",
       "      <td>Desconegut</td>\n",
       "      <td>Dimecres</td>\n",
       "      <td>3</td>\n",
       "      <td>...</td>\n",
       "      <td>Tarda</td>\n",
       "      <td>Desconegut</td>\n",
       "      <td>0</td>\n",
       "      <td>1</td>\n",
       "      <td>0</td>\n",
       "      <td>1</td>\n",
       "      <td>2</td>\n",
       "      <td>-1</td>\n",
       "      <td>-1</td>\n",
       "      <td>2013-10-16</td>\n",
       "    </tr>\n",
       "    <tr>\n",
       "      <th>1</th>\n",
       "      <td>2013S007723</td>\n",
       "      <td>10</td>\n",
       "      <td>Sant Martí</td>\n",
       "      <td>101-10-64</td>\n",
       "      <td>el Camp de l'Arpa del Clot</td>\n",
       "      <td>152600</td>\n",
       "      <td>Guinardó</td>\n",
       "      <td>0028 0032</td>\n",
       "      <td>Dimarts</td>\n",
       "      <td>2</td>\n",
       "      <td>...</td>\n",
       "      <td>Tarda</td>\n",
       "      <td>Desconegut</td>\n",
       "      <td>0</td>\n",
       "      <td>1</td>\n",
       "      <td>0</td>\n",
       "      <td>1</td>\n",
       "      <td>2</td>\n",
       "      <td>4585218,67</td>\n",
       "      <td>431621,41</td>\n",
       "      <td>2013-10-29</td>\n",
       "    </tr>\n",
       "    <tr>\n",
       "      <th>2</th>\n",
       "      <td>2013S005373</td>\n",
       "      <td>10</td>\n",
       "      <td>Sant Martí</td>\n",
       "      <td>101-10-64</td>\n",
       "      <td>el Camp de l'Arpa del Clot</td>\n",
       "      <td>134801</td>\n",
       "      <td>Freser</td>\n",
       "      <td>0053 0053</td>\n",
       "      <td>Dimarts</td>\n",
       "      <td>2</td>\n",
       "      <td>...</td>\n",
       "      <td>Matí</td>\n",
       "      <td>Creuar per fora pas de vianants</td>\n",
       "      <td>0</td>\n",
       "      <td>1</td>\n",
       "      <td>0</td>\n",
       "      <td>1</td>\n",
       "      <td>1</td>\n",
       "      <td>4585049,89</td>\n",
       "      <td>431605,09</td>\n",
       "      <td>2013-07-23</td>\n",
       "    </tr>\n",
       "  </tbody>\n",
       "</table>\n",
       "<p>3 rows × 26 columns</p>\n",
       "</div>"
      ],
      "text/plain": [
       "  Número d'expedient  Codi districte Nom districte   NK barri  \\\n",
       "0        2013S007360              -1    Desconegut   -1--1--1   \n",
       "1        2013S007723              10    Sant Martí  101-10-64   \n",
       "2        2013S005373              10    Sant Martí  101-10-64   \n",
       "\n",
       "                    Nom barri  Codi carrer  Nom carrer Num postal caption  \\\n",
       "0                  Desconegut           -1  Desconegut         Desconegut   \n",
       "1  el Camp de l'Arpa del Clot       152600    Guinardó          0028 0032   \n",
       "2  el Camp de l'Arpa del Clot       134801      Freser          0053 0053   \n",
       "\n",
       "  Descripció dia setmana  Dia de setmana  ... Descripció torn  \\\n",
       "0               Dimecres               3  ...           Tarda   \n",
       "1                Dimarts               2  ...           Tarda   \n",
       "2                Dimarts               2  ...            Matí   \n",
       "\n",
       "          Descripció causa vianant  Número de morts Número de lesionats lleus  \\\n",
       "0                       Desconegut                0                         1   \n",
       "1                       Desconegut                0                         1   \n",
       "2  Creuar per fora pas de vianants                0                         1   \n",
       "\n",
       "   Número de lesionats greus  Número de víctimes Número de vehicles implicats  \\\n",
       "0                          0                   1                            2   \n",
       "1                          0                   1                            2   \n",
       "2                          0                   1                            1   \n",
       "\n",
       "  Coordenada UTM (Y)  Coordenada UTM (X)       Date  \n",
       "0                 -1                  -1 2013-10-16  \n",
       "1         4585218,67           431621,41 2013-10-29  \n",
       "2         4585049,89           431605,09 2013-07-23  \n",
       "\n",
       "[3 rows x 26 columns]"
      ]
     },
     "execution_count": 83,
     "metadata": {},
     "output_type": "execute_result"
    }
   ],
   "source": [
    "data2.head(3)"
   ]
  },
  {
   "cell_type": "code",
   "execution_count": 84,
   "metadata": {},
   "outputs": [],
   "source": [
    "counts2010 = data1['Date'].value_counts()\n",
    "counts2013 = data2['Date'].value_counts()"
   ]
  },
  {
   "cell_type": "code",
   "execution_count": 96,
   "metadata": {},
   "outputs": [
    {
     "name": "stdout",
     "output_type": "stream",
     "text": [
      "============================================\n",
      "Ano       Média Intervalo de Confiança (95%)\n",
      "--------------------------------------------\n",
      "2010    24.8110 [     23.9329,      25.6890]\n",
      "2013    25.9096 [     24.9752,      26.8440]\n",
      "--------------------------------------------\n"
     ]
    }
   ],
   "source": [
    "head = f\"{'Ano':<6s} {'Média':>8s} {'Intervalo de Confiança (95%)':<20s}\"\n",
    "print('=' * len(head))\n",
    "print(head)\n",
    "print('-' * len(head))\n",
    "for item in zip(['2010', '2013'], [counts2010, counts2013]):\n",
    "    year = item[0]\n",
    "    mean = item[1].mean()\n",
    "    n = len(item[1])\n",
    "    s = item[1].std()\n",
    "    ci = [mean - s * 1.96 / np.sqrt(n), mean + s * 1.96 / np.sqrt(n)]\n",
    "    print(f\"{year:<6s} {mean:>8.4f} [{ci[0]:>12.4f}, {ci[1]:>12.4f}]\")\n",
    "print('-' * len(head))"
   ]
  },
  {
   "cell_type": "markdown",
   "metadata": {},
   "source": [
    "A estimativa da média de acidentes em cada ano sugere que a taxa de acidentes em 2013 foi maior do que em 2010. Mas esse efeito é estatisticamente significante?"
   ]
  },
  {
   "cell_type": "markdown",
   "metadata": {},
   "source": [
    "Como a média estimada para 2010 (24.8110) está fora do intervalo de confiança da faixa de valores plausíveis de 2013, dizemos que a hipótese alternativa não pode ser rejeitada. Nesse sentido, com 95% de confiança, a média de acidentes em 2013 foi maior que a média de acidentes em 2010."
   ]
  },
  {
   "cell_type": "markdown",
   "metadata": {},
   "source": [
    "### Testes de Hipóteses usando $p$-valor"
   ]
  },
  {
   "cell_type": "code",
   "execution_count": 114,
   "metadata": {},
   "outputs": [],
   "source": [
    "x = counts2010\n",
    "y = counts2013\n",
    "\n",
    "m = len(x)\n",
    "n = len(y)\n",
    "\n",
    "p = y.mean() - x.mean()\n",
    "\n",
    "pool = np.concatenate([x,y])\n",
    "np.random.shuffle(pool)\n",
    "\n",
    "N = 10000\n",
    "diff = np.zeros(N)\n",
    "for i in range(N):\n",
    "    p1 = [random.choice(pool) for _ in range(n)]\n",
    "    p2 = [random.choice(pool) for _ in range(n)]\n",
    "    diff[i] = (np.mean(p1) - np.mean(p2))"
   ]
  },
  {
   "cell_type": "code",
   "execution_count": 117,
   "metadata": {},
   "outputs": [
    {
     "name": "stdout",
     "output_type": "stream",
     "text": [
      "\n",
      "    p-valor (Simulação): 0.0442 (4.42%)\n",
      "    Diferença: 1.0986\n",
      "\n",
      "O efeito é significante.\n"
     ]
    }
   ],
   "source": [
    "w1 = np.where(diff > p)[0]\n",
    "\n",
    "p_value = len(w1) / float(N)\n",
    "print(f\"\"\"\n",
    "    p-valor (Simulação): {p_value:.4f} ({100 * p_value:.2f}%)\n",
    "    Diferença: {p:.4f}\n",
    "\"\"\")\n",
    "\n",
    "if p_value < 0.05:\n",
    "    print('O efeito é significante.')\n",
    "else:\n",
    "    print('O efeito é não significante.')"
   ]
  }
 ],
 "metadata": {
  "kernelspec": {
   "display_name": "Python 3.8.13 64-bit ('3.8.13')",
   "language": "python",
   "name": "python3"
  },
  "language_info": {
   "codemirror_mode": {
    "name": "ipython",
    "version": 3
   },
   "file_extension": ".py",
   "mimetype": "text/x-python",
   "name": "python",
   "nbconvert_exporter": "python",
   "pygments_lexer": "ipython3",
   "version": "3.8.13"
  },
  "orig_nbformat": 4,
  "vscode": {
   "interpreter": {
    "hash": "110cc1dee26208153f2972f08a2ad52b6a56238dc66d48e87fb757ef2996db56"
   }
  }
 },
 "nbformat": 4,
 "nbformat_minor": 2
}
