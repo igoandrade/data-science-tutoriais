{
 "cells": [
  {
   "cell_type": "markdown",
   "metadata": {},
   "source": [
    "# Aprendizado supervisionado"
   ]
  },
  {
   "cell_type": "markdown",
   "metadata": {},
   "source": [
    "## Definição do problema\n",
    "\n",
    "Os dados utilizados nesse projeto referem-se a informações fornecidas por clientes solicitantes de empréstimos à empresa [Lending Club](https://www.lendingclub.com) para o período de tempo de 2007 a 2011. Os atributos usamos neste problema estão relacionados a alguns detalhes do pedido de empréstimo, como valor do empréstimo solicitado para o mutuário, pagamento mensal a ser feito pelo mutuário se o empréstimo for aceito, renda anual do mutuário, número de incidências de inadimplência na carteira de crédito do tomador, taxa de juros do empréstimo, entre outros.\n",
    "\n",
    "Deseja-se de prever empréstimos aceitos sem sucesso. Um pedido de empréstimo não é bem-sucedido se o valor financiado (`funded_amnt`) ou o valor financiado por investidores (`funded_amnt_inv`) fica muito aquém do valor do empréstimo solicitado (`loan_amnt`). O ponto de corte adotado é dado pela relação\n",
    "\n",
    "$$\\dfrac{loan - funded}{loan} \\geq 0.95$$"
   ]
  },
  {
   "cell_type": "markdown",
   "metadata": {},
   "source": [
    "## Leitura dos dados"
   ]
  },
  {
   "cell_type": "markdown",
   "metadata": {},
   "source": [
    "Bibliotecas importadas:"
   ]
  },
  {
   "cell_type": "code",
   "execution_count": 110,
   "metadata": {},
   "outputs": [],
   "source": [
    "import pickle\n",
    "import numpy as np \n",
    "import pandas as pd \n",
    "import matplotlib.pyplot as plt\n",
    "from sklearn import tree\n",
    "from sklearn import svm\n",
    "from sklearn import  neighbors\n",
    "from sklearn import datasets \n",
    "from sklearn import metrics\n",
    "from sklearn.model_selection import train_test_split\n"
   ]
  },
  {
   "cell_type": "code",
   "execution_count": 3,
   "metadata": {},
   "outputs": [],
   "source": [
    "plt.style.use('bmh')"
   ]
  },
  {
   "cell_type": "code",
   "execution_count": 5,
   "metadata": {},
   "outputs": [],
   "source": [
    "ofname = open('../data/dataset_small.pkl', 'rb')\n",
    "# x armazena os dados de entrada e y armazena os dados de destino (target data)\n",
    "(x, y) = pickle.load(ofname, encoding='latin1')"
   ]
  },
  {
   "cell_type": "markdown",
   "metadata": {},
   "source": [
    "- Os dados de entreda estão estruturados em um _array_ Numpy.\n",
    "\n",
    "Matriz de dados de entrada:\n",
    "$\n",
    "    \\mathbf{X} = \n",
    "    \\begin{bmatrix}\n",
    "        x_{11} & x_{12} & \\cdots & x_{1d} \\\\\n",
    "        x_{21} & x_{22} & \\cdots & x_{2d} \\\\\n",
    "        \\vdots & \\vdots & \\ddots & \\vdots \\\\\n",
    "        x_{n1} & x_{n2} & \\cdots & x_{nd} \\\\\n",
    "    \\end{bmatrix}\n",
    "$\n",
    "\n",
    "Vetor de dados de destino:\n",
    "$\n",
    "    \\mathbf{y}^T = \n",
    "    \\begin{bmatrix}\n",
    "        y_1, & y_2, & \\cdots, & y_n\n",
    "    \\end{bmatrix}\n",
    "$.\n",
    "\n",
    "- As colunas de $\\mathbf{X}$ são denominadas atributos, dimensões, regressores, covarientes, preditores ou variáveis independentes;\n",
    "- As linhas correspondem às instâncias ou observações;\n",
    "- o destino (_target_) é a saída, resposta ou variável dependente.\n"
   ]
  },
  {
   "cell_type": "code",
   "execution_count": 12,
   "metadata": {},
   "outputs": [
    {
     "name": "stdout",
     "output_type": "stream",
     "text": [
      "\n",
      "    Dimensão dos dados:         15\n",
      "    Número de observações:    4140\n",
      "\n"
     ]
    }
   ],
   "source": [
    "dims = x.shape[1]\n",
    "N = x.shape[0]\n",
    "print(f\"\"\"\n",
    "    {'Dimensão dos dados:':<25s} {dims:>4d}\n",
    "    {'Número de observações:':<25s} {N:>4d}\n",
    "\"\"\")"
   ]
  },
  {
   "cell_type": "markdown",
   "metadata": {},
   "source": [
    "### Aplicação do modelo de aprendizado supervisionado"
   ]
  },
  {
   "cell_type": "markdown",
   "metadata": {},
   "source": [
    "1. Criação de uma instância do classificador k vizinhos mais próximos (KNN, \"K-Nearest Neighbors\")"
   ]
  },
  {
   "cell_type": "code",
   "execution_count": 14,
   "metadata": {},
   "outputs": [],
   "source": [
    "knn = neighbors.KNeighborsClassifier(n_neighbors=11)"
   ]
  },
  {
   "cell_type": "markdown",
   "metadata": {},
   "source": [
    "2. Treinamento do classificador"
   ]
  },
  {
   "cell_type": "code",
   "execution_count": 15,
   "metadata": {},
   "outputs": [
    {
     "data": {
      "text/html": [
       "<style>#sk-container-id-1 {color: black;background-color: white;}#sk-container-id-1 pre{padding: 0;}#sk-container-id-1 div.sk-toggleable {background-color: white;}#sk-container-id-1 label.sk-toggleable__label {cursor: pointer;display: block;width: 100%;margin-bottom: 0;padding: 0.3em;box-sizing: border-box;text-align: center;}#sk-container-id-1 label.sk-toggleable__label-arrow:before {content: \"▸\";float: left;margin-right: 0.25em;color: #696969;}#sk-container-id-1 label.sk-toggleable__label-arrow:hover:before {color: black;}#sk-container-id-1 div.sk-estimator:hover label.sk-toggleable__label-arrow:before {color: black;}#sk-container-id-1 div.sk-toggleable__content {max-height: 0;max-width: 0;overflow: hidden;text-align: left;background-color: #f0f8ff;}#sk-container-id-1 div.sk-toggleable__content pre {margin: 0.2em;color: black;border-radius: 0.25em;background-color: #f0f8ff;}#sk-container-id-1 input.sk-toggleable__control:checked~div.sk-toggleable__content {max-height: 200px;max-width: 100%;overflow: auto;}#sk-container-id-1 input.sk-toggleable__control:checked~label.sk-toggleable__label-arrow:before {content: \"▾\";}#sk-container-id-1 div.sk-estimator input.sk-toggleable__control:checked~label.sk-toggleable__label {background-color: #d4ebff;}#sk-container-id-1 div.sk-label input.sk-toggleable__control:checked~label.sk-toggleable__label {background-color: #d4ebff;}#sk-container-id-1 input.sk-hidden--visually {border: 0;clip: rect(1px 1px 1px 1px);clip: rect(1px, 1px, 1px, 1px);height: 1px;margin: -1px;overflow: hidden;padding: 0;position: absolute;width: 1px;}#sk-container-id-1 div.sk-estimator {font-family: monospace;background-color: #f0f8ff;border: 1px dotted black;border-radius: 0.25em;box-sizing: border-box;margin-bottom: 0.5em;}#sk-container-id-1 div.sk-estimator:hover {background-color: #d4ebff;}#sk-container-id-1 div.sk-parallel-item::after {content: \"\";width: 100%;border-bottom: 1px solid gray;flex-grow: 1;}#sk-container-id-1 div.sk-label:hover label.sk-toggleable__label {background-color: #d4ebff;}#sk-container-id-1 div.sk-serial::before {content: \"\";position: absolute;border-left: 1px solid gray;box-sizing: border-box;top: 0;bottom: 0;left: 50%;z-index: 0;}#sk-container-id-1 div.sk-serial {display: flex;flex-direction: column;align-items: center;background-color: white;padding-right: 0.2em;padding-left: 0.2em;position: relative;}#sk-container-id-1 div.sk-item {position: relative;z-index: 1;}#sk-container-id-1 div.sk-parallel {display: flex;align-items: stretch;justify-content: center;background-color: white;position: relative;}#sk-container-id-1 div.sk-item::before, #sk-container-id-1 div.sk-parallel-item::before {content: \"\";position: absolute;border-left: 1px solid gray;box-sizing: border-box;top: 0;bottom: 0;left: 50%;z-index: -1;}#sk-container-id-1 div.sk-parallel-item {display: flex;flex-direction: column;z-index: 1;position: relative;background-color: white;}#sk-container-id-1 div.sk-parallel-item:first-child::after {align-self: flex-end;width: 50%;}#sk-container-id-1 div.sk-parallel-item:last-child::after {align-self: flex-start;width: 50%;}#sk-container-id-1 div.sk-parallel-item:only-child::after {width: 0;}#sk-container-id-1 div.sk-dashed-wrapped {border: 1px dashed gray;margin: 0 0.4em 0.5em 0.4em;box-sizing: border-box;padding-bottom: 0.4em;background-color: white;}#sk-container-id-1 div.sk-label label {font-family: monospace;font-weight: bold;display: inline-block;line-height: 1.2em;}#sk-container-id-1 div.sk-label-container {text-align: center;}#sk-container-id-1 div.sk-container {/* jupyter's `normalize.less` sets `[hidden] { display: none; }` but bootstrap.min.css set `[hidden] { display: none !important; }` so we also need the `!important` here to be able to override the default hidden behavior on the sphinx rendered scikit-learn.org. See: https://github.com/scikit-learn/scikit-learn/issues/21755 */display: inline-block !important;position: relative;}#sk-container-id-1 div.sk-text-repr-fallback {display: none;}</style><div id=\"sk-container-id-1\" class=\"sk-top-container\"><div class=\"sk-text-repr-fallback\"><pre>KNeighborsClassifier(n_neighbors=11)</pre><b>In a Jupyter environment, please rerun this cell to show the HTML representation or trust the notebook. <br />On GitHub, the HTML representation is unable to render, please try loading this page with nbviewer.org.</b></div><div class=\"sk-container\" hidden><div class=\"sk-item\"><div class=\"sk-estimator sk-toggleable\"><input class=\"sk-toggleable__control sk-hidden--visually\" id=\"sk-estimator-id-1\" type=\"checkbox\" checked><label for=\"sk-estimator-id-1\" class=\"sk-toggleable__label sk-toggleable__label-arrow\">KNeighborsClassifier</label><div class=\"sk-toggleable__content\"><pre>KNeighborsClassifier(n_neighbors=11)</pre></div></div></div></div></div>"
      ],
      "text/plain": [
       "KNeighborsClassifier(n_neighbors=11)"
      ]
     },
     "execution_count": 15,
     "metadata": {},
     "output_type": "execute_result"
    }
   ],
   "source": [
    "knn.fit(x,y)"
   ]
  },
  {
   "cell_type": "markdown",
   "metadata": {},
   "source": [
    "3. Calculo da previsão de acordo com o modelo"
   ]
  },
  {
   "cell_type": "code",
   "execution_count": 16,
   "metadata": {},
   "outputs": [],
   "source": [
    "yhat = knn.predict(x)"
   ]
  },
  {
   "cell_type": "markdown",
   "metadata": {},
   "source": [
    "4. Checagem do resultado por observação de algumas amostras"
   ]
  },
  {
   "cell_type": "code",
   "execution_count": 25,
   "metadata": {},
   "outputs": [
    {
     "name": "stdout",
     "output_type": "stream",
     "text": [
      "===============================\n",
      "i      Valor Predito Valor real\n",
      "-------------------------------\n",
      "3300            -1.0       -1.0\n",
      "3147            -1.0       -1.0\n",
      "3484            -1.0       -1.0\n",
      "2055            -1.0       -1.0\n",
      "3974            -1.0       -1.0\n",
      "1920            -1.0       -1.0\n",
      " 288            -1.0        1.0\n",
      "2862            -1.0       -1.0\n",
      " 846            -1.0       -1.0\n",
      "  84            -1.0        1.0\n",
      "===============================\n",
      "Acurácia: 83.16%\n"
     ]
    }
   ],
   "source": [
    "head = f\"{'i':4s} {'Valor Predito':>15s} {'Valor real':>10s}\"\n",
    "print(\"=\" * len(head))\n",
    "print(head)\n",
    "print(\"-\" * len(head))\n",
    "n = 10\n",
    "acertos = 0\n",
    "for i in np.random.choice(N, n):\n",
    "    if yhat[i] == y[i]:\n",
    "        acertos += 1\n",
    "    print(f\"{i:>4d} {yhat[i]:15.1f} {y[i]:10.1f}\")\n",
    "print(\"=\" * len(head))\n",
    "print(f\"Acurácia: {100 * knn.score(x, y):>.2f}%\")\n",
    "    "
   ]
  },
  {
   "cell_type": "markdown",
   "metadata": {},
   "source": [
    "Visualização gráfica"
   ]
  },
  {
   "cell_type": "code",
   "execution_count": 34,
   "metadata": {},
   "outputs": [
    {
     "data": {
      "image/png": "[encoded data removed]",
      "text/plain": [
       "<Figure size 504x504 with 1 Axes>"
      ]
     },
     "metadata": {},
     "output_type": "display_data"
    }
   ],
   "source": [
    "plt.subplots(figsize=(8,6))\n",
    "plt.pie(\n",
    "    np.c_[np.sum(np.where(y == 1, 1, 0)),\n",
    "    np.sum(np.where(y == -1, 1, 0))][0],\n",
    "    labels = ['Não totalmente financiado', 'Quantia máxima'],\n",
    "    colors = ['steelblue', 'salmon'], shadow=False,\n",
    "    autopct = '%.2f%%')\n",
    "\n",
    "plt.gcf().set_size_inches((7,7))\n",
    "plt.show()"
   ]
  },
  {
   "cell_type": "markdown",
   "metadata": {},
   "source": [
    "Matriz de confusão"
   ]
  },
  {
   "cell_type": "code",
   "execution_count": 35,
   "metadata": {},
   "outputs": [
    {
     "name": "stdout",
     "output_type": "stream",
     "text": [
      "\n",
      "    TP: 3370 FP:  690\n",
      "    FN:    7 TN:   73\n",
      "\n"
     ]
    }
   ],
   "source": [
    "yhat = knn.predict(x)\n",
    "TP = np.sum(np.logical_and(yhat == -1, y == -1))\n",
    "TN = np.sum(np.logical_and(yhat == 1, y == 1))\n",
    "FP = np.sum(np.logical_and(yhat == -1, y == 1))\n",
    "FN = np.sum(np.logical_and(yhat == 1, y == -1))\n",
    "\n",
    "print(f\"\"\"\n",
    "    TP: {TP:>4d} FP: {FP:>4d}\n",
    "    FN: {FN:>4d} TN: {TN:>4d}\n",
    "\"\"\")"
   ]
  },
  {
   "cell_type": "code",
   "execution_count": 37,
   "metadata": {},
   "outputs": [
    {
     "data": {
      "text/plain": [
       "array([[3370,  690],\n",
       "       [   7,   73]])"
      ]
     },
     "execution_count": 37,
     "metadata": {},
     "output_type": "execute_result"
    }
   ],
   "source": [
    "metrics.confusion_matrix(yhat, y)"
   ]
  },
  {
   "cell_type": "markdown",
   "metadata": {},
   "source": [
    "## Aplicação do modelo com divisão dos dados em _treinamento_ e _teste_"
   ]
  },
  {
   "cell_type": "markdown",
   "metadata": {},
   "source": [
    "Vamos dividir o conjunto de dados em dois subconjuntos. O primeiro para treinamento, correspondendo a 70% dos dados, escolhidos aleatoriamente e o restante para teste do modelo."
   ]
  },
  {
   "cell_type": "code",
   "execution_count": 38,
   "metadata": {},
   "outputs": [],
   "source": [
    "perm = np.random.permutation(y.size)\n",
    "PRC = 0.7\n",
    "split_point = int(np.ceil(y.shape[0] * PRC))\n",
    "\n",
    "X_train = x[perm[:split_point].ravel(), :]\n",
    "y_train = y[perm[:split_point].ravel()]\n",
    "\n",
    "X_test = x[perm[split_point:].ravel(), :]\n",
    "y_test = y[perm[split_point:].ravel()]\n"
   ]
  },
  {
   "cell_type": "code",
   "execution_count": 47,
   "metadata": {},
   "outputs": [
    {
     "name": "stdout",
     "output_type": "stream",
     "text": [
      "\n",
      "    Training shape: (2898, 15), Training targets shape: (2898,)\n",
      "    Testing shape:  (1242, 15), Testing targets shape:  (1242,)\n",
      "\n"
     ]
    }
   ],
   "source": [
    "print(f\"\"\"\n",
    "    {'Training shape:':15s} {X_train.shape}, {'Training targets shape:':23s} {y_train.shape}\n",
    "    {'Testing shape:':15s} {X_test.shape}, {'Testing targets shape:':23s} {y_test.shape}\n",
    "\"\"\")"
   ]
  },
  {
   "cell_type": "markdown",
   "metadata": {},
   "source": [
    "### Aplicação do modelo"
   ]
  },
  {
   "cell_type": "code",
   "execution_count": 68,
   "metadata": {},
   "outputs": [],
   "source": [
    "knn = neighbors.KNeighborsClassifier(n_neighbors=1)\n",
    "knn.fit(X_train, y_train)\n",
    "yhat = knn.predict(X_train)"
   ]
  },
  {
   "cell_type": "code",
   "execution_count": 69,
   "metadata": {},
   "outputs": [
    {
     "name": "stdout",
     "output_type": "stream",
     "text": [
      "\n",
      "    ESTATÍSTICAS DE TREINAMENTO\n",
      "    Acurácia da classificação: 100.00%\n",
      "    Matriz de confusão:\n",
      "\n",
      "\t|2385    0|\n",
      "\t|   0  513|\n"
     ]
    }
   ],
   "source": [
    "acc = metrics.accuracy_score(yhat, y_train)\n",
    "confusion_matrix = metrics.confusion_matrix(y_train, yhat)\n",
    "print(f\"\"\"\n",
    "    ESTATÍSTICAS DE TREINAMENTO\n",
    "    Acurácia da classificação: {100 * acc:.2f}%\n",
    "    Matriz de confusão:\n",
    "\"\"\")\n",
    "\n",
    "for i in range(2):\n",
    "    print(f\"\\t|{confusion_matrix[i][0]:>4d} {confusion_matrix[i][1]:>4d}|\")"
   ]
  },
  {
   "cell_type": "markdown",
   "metadata": {},
   "source": [
    "Checagem com os dados de teste"
   ]
  },
  {
   "cell_type": "code",
   "execution_count": 70,
   "metadata": {},
   "outputs": [
    {
     "name": "stdout",
     "output_type": "stream",
     "text": [
      "\n",
      "    ESTATÍSTICAS DE TREINAMENTO\n",
      "    Acurácia da classificação: 74.1546%\n",
      "    Matriz de confusão:\n",
      "\n",
      "\t| 847  145|\n",
      "\t| 176   74|\n"
     ]
    }
   ],
   "source": [
    "yhat_chk = knn.predict(X_test)\n",
    "acc_chk = metrics.accuracy_score(yhat_chk, y_test)\n",
    "confusion_matrix_chk = metrics.confusion_matrix(y_test, yhat_chk)\n",
    "print(f\"\"\"\n",
    "    ESTATÍSTICAS DE TREINAMENTO\n",
    "    Acurácia da classificação: {100 * acc_chk:.4f}%\n",
    "    Matriz de confusão:\n",
    "\"\"\")\n",
    "\n",
    "for i in range(2):\n",
    "    print(f\"\\t|{confusion_matrix_chk[i][0]:>4d} {confusion_matrix_chk[i][1]:>4d}|\")\n"
   ]
  },
  {
   "cell_type": "code",
   "execution_count": 95,
   "metadata": {},
   "outputs": [
    {
     "name": "stdout",
     "output_type": "stream",
     "text": [
      "Acurácia média (k = 10): (82.1490 +/- 0.9628)%\n",
      "Acurácia média (k = 11): (81.9203 +/- 0.9881)%\n",
      "Acurácia média (k = 12): (82.2488 +/- 0.9098)%\n",
      "Acurácia média (k = 13): (82.0604 +/- 0.9919)%\n",
      "Acurácia média (k = 14): (81.8881 +/- 0.8921)%\n",
      "Acurácia média (k = 15): (81.9638 +/- 0.9694)%\n"
     ]
    }
   ],
   "source": [
    "PRC = 0.3\n",
    "n = 100\n",
    "K = np.arange(1,16)\n",
    "ACC = np.zeros(len(K))\n",
    "for k in K:\n",
    "    acc = np.zeros((n, ))\n",
    "    for i in range(n):\n",
    "        X_train, X_test, y_train, y_test = train_test_split(x, y, test_size=PRC)\n",
    "        knn = neighbors.KNeighborsClassifier(n_neighbors=k)\n",
    "        knn.fit(X_train, y_train)\n",
    "        yhat = knn.predict(X_test)\n",
    "        acc[i] = metrics.accuracy_score(yhat, y_test)\n",
    "\n",
    "\n",
    "    acc_mean = acc.mean()\n",
    "    acc_std = acc.std()\n",
    "    ACC[k-1] = acc_mean\n",
    "    if k >= len(K) - 5:\n",
    "        print(f\"Acurácia média (k = {k:>2d}): ({100 * acc_mean:.4f} +/- {100 * acc_std:.4f})%\")\n"
   ]
  },
  {
   "cell_type": "code",
   "execution_count": 109,
   "metadata": {},
   "outputs": [
    {
     "data": {
      "image/png": "[encoded data removed]",
      "text/plain": [
       "<Figure size 576x360 with 1 Axes>"
      ]
     },
     "metadata": {
      "needs_background": "light"
     },
     "output_type": "display_data"
    }
   ],
   "source": [
    "plt.subplots(figsize=(8, 5))\n",
    "plt.plot(K, ACC, 'o--')\n",
    "plt.xlabel('k (nº de vizinhos)')\n",
    "plt.ylabel('Acurácia')\n",
    "plt.title('Acurácia do Método KNN em função de k')\n",
    "plt.xticks(range(1,16, 2))\n",
    "plt.show()"
   ]
  },
  {
   "cell_type": "markdown",
   "metadata": {},
   "source": [
    "## Comparação entre modelos de treinamento"
   ]
  },
  {
   "cell_type": "code",
   "execution_count": 114,
   "metadata": {},
   "outputs": [],
   "source": [
    "PRC = 0.1\n",
    "n = 10\n",
    "acc_r = np.zeros((n, 4))\n",
    "for i in range(n):\n",
    "    X_train, X_test,  y_train, y_test = train_test_split(x, y, test_size=PRC)\n",
    "    knn1 = neighbors.KNeighborsClassifier(n_neighbors=1)\n",
    "    knn3 = neighbors.KNeighborsClassifier(n_neighbors=3)\n",
    "    svc = svm.SVC()\n",
    "    dt = tree.DecisionTreeClassifier()\n",
    "\n",
    "    knn1.fit(X_train, y_train)\n",
    "    knn3.fit(X_train, y_train)\n",
    "    svc.fit(X_train, y_train)\n",
    "    dt.fit(X_train, y_train)\n",
    "\n",
    "    yhat_knn1 = knn1.predict(X_test)\n",
    "    yhat_knn3 = knn3.predict(X_test)\n",
    "    yhat_svc = svc.predict(X_test)\n",
    "    yhat_dt = dt.predict(X_test)\n",
    "\n",
    "    for j, model in zip(range(4), [yhat_knn1, yhat_knn3, yhat_svc, yhat_dt]):\n",
    "        acc_r[i][j] = metrics.accuracy_score(model, y_test)"
   ]
  },
  {
   "cell_type": "code",
   "execution_count": 123,
   "metadata": {},
   "outputs": [
    {
     "data": {
      "image/png": "[encoded data removed]",
      "text/plain": [
       "<Figure size 720x432 with 1 Axes>"
      ]
     },
     "metadata": {
      "needs_background": "light"
     },
     "output_type": "display_data"
    }
   ],
   "source": [
    "\n",
    "fig, ax = plt.subplots(figsize=(10, 6))\n",
    "ax.boxplot(acc_r)\n",
    "ax.set_xticklabels(['1-NN', '3-NN', 'SVM', 'Árvore de decisão'])\n",
    "ax.set_xlabel('Método')\n",
    "ax.set_ylabel('Acurácia')\n",
    "ax.set_title('Comparação de métodos de classificação usando a métrica acurrácia')\n",
    "plt.show()\n"
   ]
  },
  {
   "cell_type": "code",
   "execution_count": null,
   "metadata": {},
   "outputs": [],
   "source": []
  }
 ],
 "metadata": {
  "kernelspec": {
   "display_name": "Python 3.8.13 64-bit ('3.8.13')",
   "language": "python",
   "name": "python3"
  },
  "language_info": {
   "codemirror_mode": {
    "name": "ipython",
    "version": 3
   },
   "file_extension": ".py",
   "mimetype": "text/x-python",
   "name": "python",
   "nbconvert_exporter": "python",
   "pygments_lexer": "ipython3",
   "version": "3.8.13"
  },
  "orig_nbformat": 4,
  "vscode": {
   "interpreter": {
    "hash": "110cc1dee26208153f2972f08a2ad52b6a56238dc66d48e87fb757ef2996db56"
   }
  }
 },
 "nbformat": 4,
 "nbformat_minor": 2
}
